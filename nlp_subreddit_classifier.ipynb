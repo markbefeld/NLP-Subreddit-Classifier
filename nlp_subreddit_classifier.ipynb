{
 "cells": [
  {
   "cell_type": "markdown",
   "id": "4e1412f0-c47b-45ab-97eb-d0c448c5c02e",
   "metadata": {},
   "source": [
    "# NLP Subreddit Differentiation Project"
   ]
  },
  {
   "cell_type": "markdown",
   "id": "d25b51fb-f30d-492d-a074-4c3f44fc1629",
   "metadata": {},
   "source": [
    "## Problem Statment"
   ]
  },
  {
   "cell_type": "markdown",
   "id": "f15cc857-bf37-456f-aaa9-76ec78e60dee",
   "metadata": {},
   "source": [
    "Which model is more accurate for Subreddit Classification? A model  utilizing Countvectorizer and Naive Bayes or\n",
    "a model utilizing TfidfVectorizer and Logistic Regression?\n"
   ]
  },
  {
   "cell_type": "markdown",
   "id": "70cad3dd-526d-4b40-be0e-9fb22674e84d",
   "metadata": {},
   "source": [
    "## Imports "
   ]
  },
  {
   "cell_type": "code",
   "execution_count": 29,
   "id": "8c9851f8-7e4c-4d25-b33a-a584a69a9833",
   "metadata": {},
   "outputs": [],
   "source": [
    "import requests\n",
    "import pandas as pd\n",
    "import time \n",
    "import datetime as dt\n",
    "import matplotlib.pyplot as plt\n",
    "from sklearn.model_selection import train_test_split, GridSearchCV\n",
    "from sklearn.pipeline import Pipeline\n",
    "from sklearn.naive_bayes import MultinomialNB,BernoulliNB\n",
    "from sklearn.linear_model import LogisticRegression\n",
    "from sklearn.metrics import confusion_matrix, ConfusionMatrixDisplay\n",
    "from sklearn.feature_extraction.text import CountVectorizer, TfidfVectorizer\n",
    "from sklearn.model_selection import train_test_split, cross_val_score, cross_val_predict\n",
    "from sklearn.metrics import r2_score"
   ]
  },
  {
   "cell_type": "markdown",
   "id": "eb23be8a-67b1-4069-a38d-9dbc4565ae17",
   "metadata": {},
   "source": [
    "## Web-Scraping Data from Pushshift API"
   ]
  },
  {
   "cell_type": "code",
   "execution_count": 4,
   "id": "230b40c7-20c2-4209-88b7-8394d82518cb",
   "metadata": {},
   "outputs": [],
   "source": [
    "# Create empty DF\n",
    "full_df= pd.DataFrame()"
   ]
  },
  {
   "cell_type": "code",
   "execution_count": 5,
   "id": "65f73b57-4e3a-465e-8c83-9790608778ba",
   "metadata": {},
   "outputs": [],
   "source": [
    "# Set options to view entire DF if needed\n",
    "pd.set_option(\"max_rows\", 10)\n",
    "pd.set_option(\"max_columns\", 1000000)"
   ]
  },
  {
   "cell_type": "code",
   "execution_count": 11,
   "id": "2ef60753-e9e7-4f1c-8d6b-862989d313ef",
   "metadata": {},
   "outputs": [
    {
     "name": "stdout",
     "output_type": "stream",
     "text": [
      "<class 'pandas.core.frame.DataFrame'>\n",
      "RangeIndex: 100 entries, 0 to 99\n",
      "Data columns (total 5 columns):\n",
      " #   Column       Non-Null Count  Dtype \n",
      "---  ------       --------------  ----- \n",
      " 0   title        100 non-null    object\n",
      " 1   author       100 non-null    object\n",
      " 2   selftext     100 non-null    object\n",
      " 3   created_utc  100 non-null    int64 \n",
      " 4   subreddit    100 non-null    object\n",
      "dtypes: int64(1), object(4)\n",
      "memory usage: 4.0+ KB\n"
     ]
    }
   ],
   "source": [
    "# Grab posts before epoch value an initiate DF\n",
    "\n",
    "s_type = 'submission'\n",
    "subreddit = 'science'\n",
    "unix_time_stamp = 1627584697\n",
    "\n",
    "url = f'https://api.pushshift.io/reddit/search/{s_type}/?subreddit={subreddit}&before={unix_time_stamp}&size=100'\n",
    "res = requests.get(url)\n",
    "if res.status_code == 200:\n",
    "    post_list =  res.json()['data']\n",
    "\n",
    "        \n",
    "    full_df = pd.DataFrame(post_list)[['title', 'author', 'selftext', 'created_utc', 'subreddit']]\n",
    "    \n",
    "full_df.info()    "
   ]
  },
  {
   "cell_type": "code",
   "execution_count": 13,
   "id": "eacb6541-914f-4770-b701-a85a7d4f6e94",
   "metadata": {},
   "outputs": [
    {
     "name": "stdout",
     "output_type": "stream",
     "text": [
      "(10100, 5)\n",
      "title           9645\n",
      "author          3449\n",
      "selftext          40\n",
      "created_utc    10090\n",
      "subreddit          2\n",
      "dtype: int64\n",
      "wating until next pull...\n",
      "(10200, 5)\n",
      "title           9743\n",
      "author          3518\n",
      "selftext          84\n",
      "created_utc    10189\n",
      "subreddit          2\n",
      "dtype: int64\n",
      "wating until next pull...\n",
      "(10300, 5)\n",
      "title           9841\n",
      "author          3590\n",
      "selftext         117\n",
      "created_utc    10289\n",
      "subreddit          2\n",
      "dtype: int64\n",
      "wating until next pull...\n",
      "(10400, 5)\n",
      "title           9934\n",
      "author          3650\n",
      "selftext         156\n",
      "created_utc    10388\n",
      "subreddit          2\n",
      "dtype: int64\n",
      "wating until next pull...\n",
      "(10500, 5)\n",
      "title          10030\n",
      "author          3713\n",
      "selftext         200\n",
      "created_utc    10488\n",
      "subreddit          2\n",
      "dtype: int64\n",
      "wating until next pull...\n",
      "(10600, 5)\n",
      "title          10124\n",
      "author          3769\n",
      "selftext         236\n",
      "created_utc    10588\n",
      "subreddit          2\n",
      "dtype: int64\n",
      "wating until next pull...\n",
      "(10700, 5)\n",
      "title          10216\n",
      "author          3812\n",
      "selftext         268\n",
      "created_utc    10688\n",
      "subreddit          2\n",
      "dtype: int64\n",
      "wating until next pull...\n",
      "(10800, 5)\n",
      "title          10315\n",
      "author          3868\n",
      "selftext         308\n",
      "created_utc    10788\n",
      "subreddit          2\n",
      "dtype: int64\n",
      "wating until next pull...\n",
      "(10900, 5)\n",
      "title          10410\n",
      "author          3925\n",
      "selftext         353\n",
      "created_utc    10888\n",
      "subreddit          2\n",
      "dtype: int64\n",
      "wating until next pull...\n",
      "(11000, 5)\n",
      "title          10490\n",
      "author          3978\n",
      "selftext         393\n",
      "created_utc    10988\n",
      "subreddit          2\n",
      "dtype: int64\n",
      "wating until next pull...\n",
      "(11100, 5)\n",
      "title          10581\n",
      "author          4028\n",
      "selftext         440\n",
      "created_utc    11087\n",
      "subreddit          2\n",
      "dtype: int64\n",
      "wating until next pull...\n",
      "(11200, 5)\n",
      "title          10675\n",
      "author          4084\n",
      "selftext         481\n",
      "created_utc    11187\n",
      "subreddit          2\n",
      "dtype: int64\n",
      "wating until next pull...\n",
      "(11300, 5)\n",
      "title          10775\n",
      "author          4136\n",
      "selftext         526\n",
      "created_utc    11287\n",
      "subreddit          2\n",
      "dtype: int64\n",
      "wating until next pull...\n",
      "(11400, 5)\n",
      "title          10874\n",
      "author          4189\n",
      "selftext         567\n",
      "created_utc    11385\n",
      "subreddit          2\n",
      "dtype: int64\n",
      "wating until next pull...\n",
      "(11500, 5)\n",
      "title          10971\n",
      "author          4237\n",
      "selftext         614\n",
      "created_utc    11485\n",
      "subreddit          2\n",
      "dtype: int64\n",
      "wating until next pull...\n",
      "(11600, 5)\n",
      "title          11067\n",
      "author          4294\n",
      "selftext         655\n",
      "created_utc    11585\n",
      "subreddit          2\n",
      "dtype: int64\n",
      "wating until next pull...\n",
      "(11700, 5)\n",
      "title          11166\n",
      "author          4363\n",
      "selftext         698\n",
      "created_utc    11685\n",
      "subreddit          2\n",
      "dtype: int64\n",
      "wating until next pull...\n",
      "(11800, 5)\n",
      "title          11265\n",
      "author          4420\n",
      "selftext         738\n",
      "created_utc    11785\n",
      "subreddit          2\n",
      "dtype: int64\n",
      "wating until next pull...\n",
      "(11900, 5)\n",
      "title          11363\n",
      "author          4470\n",
      "selftext         781\n",
      "created_utc    11885\n",
      "subreddit          2\n",
      "dtype: int64\n",
      "wating until next pull...\n",
      "(12000, 5)\n",
      "title          11461\n",
      "author          4524\n",
      "selftext         822\n",
      "created_utc    11984\n",
      "subreddit          2\n",
      "dtype: int64\n",
      "wating until next pull...\n",
      "(12100, 5)\n",
      "title          11559\n",
      "author          4571\n",
      "selftext         865\n",
      "created_utc    12084\n",
      "subreddit          2\n",
      "dtype: int64\n",
      "wating until next pull...\n",
      "(12200, 5)\n",
      "title          11655\n",
      "author          4620\n",
      "selftext         911\n",
      "created_utc    12184\n",
      "subreddit          2\n",
      "dtype: int64\n",
      "wating until next pull...\n",
      "(12300, 5)\n",
      "title          11751\n",
      "author          4675\n",
      "selftext         950\n",
      "created_utc    12284\n",
      "subreddit          2\n",
      "dtype: int64\n",
      "wating until next pull...\n",
      "(12400, 5)\n",
      "title          11848\n",
      "author          4735\n",
      "selftext         986\n",
      "created_utc    12384\n",
      "subreddit          2\n",
      "dtype: int64\n",
      "wating until next pull...\n",
      "(12500, 5)\n",
      "title          11947\n",
      "author          4791\n",
      "selftext        1020\n",
      "created_utc    12484\n",
      "subreddit          2\n",
      "dtype: int64\n",
      "wating until next pull...\n",
      "(12600, 5)\n",
      "title          12043\n",
      "author          4846\n",
      "selftext        1059\n",
      "created_utc    12584\n",
      "subreddit          2\n",
      "dtype: int64\n",
      "wating until next pull...\n",
      "(12700, 5)\n",
      "title          12141\n",
      "author          4901\n",
      "selftext        1097\n",
      "created_utc    12684\n",
      "subreddit          2\n",
      "dtype: int64\n",
      "wating until next pull...\n",
      "(12800, 5)\n",
      "title          12239\n",
      "author          4966\n",
      "selftext        1130\n",
      "created_utc    12784\n",
      "subreddit          2\n",
      "dtype: int64\n",
      "wating until next pull...\n",
      "(12900, 5)\n",
      "title          12335\n",
      "author          5019\n",
      "selftext        1171\n",
      "created_utc    12884\n",
      "subreddit          2\n",
      "dtype: int64\n",
      "wating until next pull...\n",
      "(13000, 5)\n",
      "title          12434\n",
      "author          5069\n",
      "selftext        1206\n",
      "created_utc    12984\n",
      "subreddit          2\n",
      "dtype: int64\n",
      "wating until next pull...\n",
      "(13100, 5)\n",
      "title          12528\n",
      "author          5118\n",
      "selftext        1241\n",
      "created_utc    13084\n",
      "subreddit          2\n",
      "dtype: int64\n",
      "wating until next pull...\n",
      "(13200, 5)\n",
      "title          12627\n",
      "author          5175\n",
      "selftext        1280\n",
      "created_utc    13184\n",
      "subreddit          2\n",
      "dtype: int64\n",
      "wating until next pull...\n",
      "(13300, 5)\n",
      "title          12724\n",
      "author          5241\n",
      "selftext        1318\n",
      "created_utc    13284\n",
      "subreddit          2\n",
      "dtype: int64\n",
      "wating until next pull...\n",
      "(13400, 5)\n",
      "title          12820\n",
      "author          5305\n",
      "selftext        1351\n",
      "created_utc    13384\n",
      "subreddit          2\n",
      "dtype: int64\n",
      "wating until next pull...\n",
      "(13500, 5)\n",
      "title          12916\n",
      "author          5359\n",
      "selftext        1388\n",
      "created_utc    13484\n",
      "subreddit          2\n",
      "dtype: int64\n",
      "wating until next pull...\n",
      "(13600, 5)\n",
      "title          13014\n",
      "author          5406\n",
      "selftext        1436\n",
      "created_utc    13584\n",
      "subreddit          2\n",
      "dtype: int64\n",
      "wating until next pull...\n",
      "(13700, 5)\n",
      "title          13112\n",
      "author          5458\n",
      "selftext        1474\n",
      "created_utc    13684\n",
      "subreddit          2\n",
      "dtype: int64\n",
      "wating until next pull...\n",
      "(13800, 5)\n",
      "title          13209\n",
      "author          5506\n",
      "selftext        1509\n",
      "created_utc    13784\n",
      "subreddit          2\n",
      "dtype: int64\n",
      "wating until next pull...\n",
      "(13900, 5)\n",
      "title          13305\n",
      "author          5553\n",
      "selftext        1554\n",
      "created_utc    13884\n",
      "subreddit          2\n",
      "dtype: int64\n",
      "wating until next pull...\n",
      "(14000, 5)\n",
      "title          13405\n",
      "author          5610\n",
      "selftext        1584\n",
      "created_utc    13984\n",
      "subreddit          2\n",
      "dtype: int64\n",
      "wating until next pull...\n",
      "(14100, 5)\n",
      "title          13505\n",
      "author          5663\n",
      "selftext        1633\n",
      "created_utc    14084\n",
      "subreddit          2\n",
      "dtype: int64\n",
      "wating until next pull...\n",
      "(14200, 5)\n",
      "title          13595\n",
      "author          5707\n",
      "selftext        1674\n",
      "created_utc    14184\n",
      "subreddit          2\n",
      "dtype: int64\n",
      "wating until next pull...\n",
      "(14300, 5)\n",
      "title          13689\n",
      "author          5755\n",
      "selftext        1711\n",
      "created_utc    14284\n",
      "subreddit          2\n",
      "dtype: int64\n",
      "wating until next pull...\n",
      "(14400, 5)\n",
      "title          13781\n",
      "author          5805\n",
      "selftext        1750\n",
      "created_utc    14384\n",
      "subreddit          2\n",
      "dtype: int64\n",
      "wating until next pull...\n",
      "(14500, 5)\n",
      "title          13875\n",
      "author          5867\n",
      "selftext        1785\n",
      "created_utc    14484\n",
      "subreddit          2\n",
      "dtype: int64\n",
      "wating until next pull...\n",
      "(14600, 5)\n",
      "title          13970\n",
      "author          5923\n",
      "selftext        1835\n",
      "created_utc    14584\n",
      "subreddit          2\n",
      "dtype: int64\n",
      "wating until next pull...\n",
      "(14700, 5)\n",
      "title          14068\n",
      "author          5985\n",
      "selftext        1870\n",
      "created_utc    14684\n",
      "subreddit          2\n",
      "dtype: int64\n",
      "wating until next pull...\n",
      "(14800, 5)\n",
      "title          14164\n",
      "author          6052\n",
      "selftext        1910\n",
      "created_utc    14784\n",
      "subreddit          2\n",
      "dtype: int64\n",
      "wating until next pull...\n",
      "(14900, 5)\n",
      "title          14259\n",
      "author          6121\n",
      "selftext        1949\n",
      "created_utc    14884\n",
      "subreddit          2\n",
      "dtype: int64\n",
      "wating until next pull...\n",
      "(15000, 5)\n",
      "title          14351\n",
      "author          6176\n",
      "selftext        1982\n",
      "created_utc    14984\n",
      "subreddit          2\n",
      "dtype: int64\n",
      "wating until next pull...\n",
      "(15100, 5)\n",
      "title          14444\n",
      "author          6244\n",
      "selftext        2019\n",
      "created_utc    15084\n",
      "subreddit          2\n",
      "dtype: int64\n",
      "wating until next pull...\n",
      "(15200, 5)\n",
      "title          14538\n",
      "author          6317\n",
      "selftext        2052\n",
      "created_utc    15184\n",
      "subreddit          2\n",
      "dtype: int64\n",
      "wating until next pull...\n",
      "(15300, 5)\n",
      "title          14630\n",
      "author          6369\n",
      "selftext        2085\n",
      "created_utc    15284\n",
      "subreddit          2\n",
      "dtype: int64\n",
      "wating until next pull...\n",
      "(15400, 5)\n",
      "title          14726\n",
      "author          6429\n",
      "selftext        2125\n",
      "created_utc    15384\n",
      "subreddit          2\n",
      "dtype: int64\n",
      "wating until next pull...\n",
      "(15500, 5)\n",
      "title          14823\n",
      "author          6490\n",
      "selftext        2153\n",
      "created_utc    15484\n",
      "subreddit          2\n",
      "dtype: int64\n",
      "wating until next pull...\n",
      "(15600, 5)\n",
      "title          14912\n",
      "author          6552\n",
      "selftext        2182\n",
      "created_utc    15584\n",
      "subreddit          2\n",
      "dtype: int64\n",
      "wating until next pull...\n",
      "(15700, 5)\n",
      "title          15007\n",
      "author          6607\n",
      "selftext        2211\n",
      "created_utc    15684\n",
      "subreddit          2\n",
      "dtype: int64\n",
      "wating until next pull...\n",
      "(15800, 5)\n",
      "title          15102\n",
      "author          6673\n",
      "selftext        2251\n",
      "created_utc    15784\n",
      "subreddit          2\n",
      "dtype: int64\n",
      "wating until next pull...\n",
      "(15900, 5)\n",
      "title          15194\n",
      "author          6730\n",
      "selftext        2290\n",
      "created_utc    15884\n",
      "subreddit          2\n",
      "dtype: int64\n",
      "wating until next pull...\n",
      "(16000, 5)\n",
      "title          15289\n",
      "author          6791\n",
      "selftext        2327\n",
      "created_utc    15984\n",
      "subreddit          2\n",
      "dtype: int64\n",
      "wating until next pull...\n",
      "(16100, 5)\n",
      "title          15384\n",
      "author          6847\n",
      "selftext        2361\n",
      "created_utc    16084\n",
      "subreddit          2\n",
      "dtype: int64\n",
      "wating until next pull...\n",
      "(16200, 5)\n",
      "title          15478\n",
      "author          6906\n",
      "selftext        2409\n",
      "created_utc    16184\n",
      "subreddit          2\n",
      "dtype: int64\n",
      "wating until next pull...\n",
      "(16300, 5)\n",
      "title          15572\n",
      "author          6969\n",
      "selftext        2446\n",
      "created_utc    16284\n",
      "subreddit          2\n",
      "dtype: int64\n",
      "wating until next pull...\n",
      "(16400, 5)\n",
      "title          15668\n",
      "author          7030\n",
      "selftext        2496\n",
      "created_utc    16384\n",
      "subreddit          2\n",
      "dtype: int64\n",
      "wating until next pull...\n",
      "(16500, 5)\n",
      "title          15763\n",
      "author          7112\n",
      "selftext        2535\n",
      "created_utc    16484\n",
      "subreddit          2\n",
      "dtype: int64\n",
      "wating until next pull...\n",
      "(16600, 5)\n",
      "title          15854\n",
      "author          7172\n",
      "selftext        2580\n",
      "created_utc    16584\n",
      "subreddit          2\n",
      "dtype: int64\n",
      "wating until next pull...\n",
      "(16700, 5)\n",
      "title          15946\n",
      "author          7232\n",
      "selftext        2617\n",
      "created_utc    16684\n",
      "subreddit          2\n",
      "dtype: int64\n",
      "wating until next pull...\n",
      "(16800, 5)\n",
      "title          16040\n",
      "author          7297\n",
      "selftext        2659\n",
      "created_utc    16784\n",
      "subreddit          2\n",
      "dtype: int64\n",
      "wating until next pull...\n",
      "(16900, 5)\n",
      "title          16129\n",
      "author          7354\n",
      "selftext        2693\n",
      "created_utc    16884\n",
      "subreddit          2\n",
      "dtype: int64\n",
      "wating until next pull...\n",
      "(17000, 5)\n",
      "title          16223\n",
      "author          7417\n",
      "selftext        2711\n",
      "created_utc    16984\n",
      "subreddit          2\n",
      "dtype: int64\n",
      "wating until next pull...\n",
      "(17100, 5)\n",
      "title          16318\n",
      "author          7484\n",
      "selftext        2750\n",
      "created_utc    17084\n",
      "subreddit          2\n",
      "dtype: int64\n",
      "wating until next pull...\n",
      "(17200, 5)\n",
      "title          16411\n",
      "author          7553\n",
      "selftext        2780\n",
      "created_utc    17184\n",
      "subreddit          2\n",
      "dtype: int64\n",
      "wating until next pull...\n",
      "(17300, 5)\n",
      "title          16505\n",
      "author          7619\n",
      "selftext        2810\n",
      "created_utc    17284\n",
      "subreddit          2\n",
      "dtype: int64\n",
      "wating until next pull...\n",
      "(17400, 5)\n",
      "title          16598\n",
      "author          7692\n",
      "selftext        2838\n",
      "created_utc    17384\n",
      "subreddit          2\n",
      "dtype: int64\n",
      "wating until next pull...\n",
      "(17500, 5)\n",
      "title          16688\n",
      "author          7756\n",
      "selftext        2868\n",
      "created_utc    17484\n",
      "subreddit          2\n",
      "dtype: int64\n",
      "wating until next pull...\n",
      "(17600, 5)\n",
      "title          16778\n",
      "author          7811\n",
      "selftext        2894\n",
      "created_utc    17584\n",
      "subreddit          2\n",
      "dtype: int64\n",
      "wating until next pull...\n",
      "(17700, 5)\n",
      "title          16872\n",
      "author          7879\n",
      "selftext        2927\n",
      "created_utc    17684\n",
      "subreddit          2\n",
      "dtype: int64\n",
      "wating until next pull...\n",
      "(17800, 5)\n",
      "title          16964\n",
      "author          7940\n",
      "selftext        2958\n",
      "created_utc    17784\n",
      "subreddit          2\n",
      "dtype: int64\n",
      "wating until next pull...\n",
      "(17900, 5)\n",
      "title          17056\n",
      "author          7991\n",
      "selftext        2998\n",
      "created_utc    17884\n",
      "subreddit          2\n",
      "dtype: int64\n",
      "wating until next pull...\n",
      "(18000, 5)\n",
      "title          17152\n",
      "author          8045\n",
      "selftext        3042\n",
      "created_utc    17983\n",
      "subreddit          2\n",
      "dtype: int64\n",
      "wating until next pull...\n",
      "(18100, 5)\n",
      "title          17245\n",
      "author          8097\n",
      "selftext        3078\n",
      "created_utc    18083\n",
      "subreddit          2\n",
      "dtype: int64\n",
      "wating until next pull...\n",
      "(18200, 5)\n",
      "title          17332\n",
      "author          8145\n",
      "selftext        3110\n",
      "created_utc    18182\n",
      "subreddit          2\n",
      "dtype: int64\n",
      "wating until next pull...\n",
      "(18300, 5)\n",
      "title          17422\n",
      "author          8192\n",
      "selftext        3135\n",
      "created_utc    18282\n",
      "subreddit          2\n",
      "dtype: int64\n",
      "wating until next pull...\n",
      "(18400, 5)\n",
      "title          17514\n",
      "author          8248\n",
      "selftext        3158\n",
      "created_utc    18382\n",
      "subreddit          2\n",
      "dtype: int64\n",
      "wating until next pull...\n",
      "(18500, 5)\n",
      "title          17607\n",
      "author          8299\n",
      "selftext        3182\n",
      "created_utc    18482\n",
      "subreddit          2\n",
      "dtype: int64\n",
      "wating until next pull...\n",
      "(18600, 5)\n",
      "title          17700\n",
      "author          8363\n",
      "selftext        3201\n",
      "created_utc    18582\n",
      "subreddit          2\n",
      "dtype: int64\n",
      "wating until next pull...\n",
      "(18700, 5)\n",
      "title          17791\n",
      "author          8419\n",
      "selftext        3232\n",
      "created_utc    18682\n",
      "subreddit          2\n",
      "dtype: int64\n",
      "wating until next pull...\n",
      "(18800, 5)\n",
      "title          17881\n",
      "author          8482\n",
      "selftext        3264\n",
      "created_utc    18782\n",
      "subreddit          2\n",
      "dtype: int64\n",
      "wating until next pull...\n",
      "(18900, 5)\n",
      "title          17973\n",
      "author          8540\n",
      "selftext        3294\n",
      "created_utc    18882\n",
      "subreddit          2\n",
      "dtype: int64\n",
      "wating until next pull...\n",
      "(19000, 5)\n",
      "title          18067\n",
      "author          8605\n",
      "selftext        3322\n",
      "created_utc    18982\n",
      "subreddit          2\n",
      "dtype: int64\n",
      "wating until next pull...\n",
      "(19100, 5)\n",
      "title          18163\n",
      "author          8669\n",
      "selftext        3352\n",
      "created_utc    19082\n",
      "subreddit          2\n",
      "dtype: int64\n",
      "wating until next pull...\n",
      "(19200, 5)\n",
      "title          18258\n",
      "author          8731\n",
      "selftext        3384\n",
      "created_utc    19182\n",
      "subreddit          2\n",
      "dtype: int64\n",
      "wating until next pull...\n",
      "(19300, 5)\n",
      "title          18352\n",
      "author          8794\n",
      "selftext        3419\n",
      "created_utc    19282\n",
      "subreddit          2\n",
      "dtype: int64\n",
      "wating until next pull...\n",
      "(19400, 5)\n",
      "title          18450\n",
      "author          8851\n",
      "selftext        3449\n",
      "created_utc    19382\n",
      "subreddit          2\n",
      "dtype: int64\n",
      "wating until next pull...\n",
      "(19500, 5)\n",
      "title          18545\n",
      "author          8916\n",
      "selftext        3483\n",
      "created_utc    19482\n",
      "subreddit          2\n",
      "dtype: int64\n",
      "wating until next pull...\n",
      "(19600, 5)\n",
      "title          18645\n",
      "author          8981\n",
      "selftext        3519\n",
      "created_utc    19582\n",
      "subreddit          2\n",
      "dtype: int64\n",
      "wating until next pull...\n",
      "(19700, 5)\n",
      "title          18739\n",
      "author          9040\n",
      "selftext        3542\n",
      "created_utc    19682\n",
      "subreddit          2\n",
      "dtype: int64\n",
      "wating until next pull...\n",
      "(19800, 5)\n",
      "title          18834\n",
      "author          9102\n",
      "selftext        3570\n",
      "created_utc    19782\n",
      "subreddit          2\n",
      "dtype: int64\n",
      "wating until next pull...\n",
      "(19900, 5)\n",
      "title          18929\n",
      "author          9160\n",
      "selftext        3597\n",
      "created_utc    19882\n",
      "subreddit          2\n",
      "dtype: int64\n",
      "wating until next pull...\n",
      "(20000, 5)\n",
      "title          19022\n",
      "author          9223\n",
      "selftext        3631\n",
      "created_utc    19982\n",
      "subreddit          2\n",
      "dtype: int64\n",
      "wating until next pull...\n"
     ]
    }
   ],
   "source": [
    "# Going to use this code much like a function to scrape different subreddits\n",
    "\n",
    "subreddit = 'religion'\n",
    "for i in range(100):\n",
    "    \n",
    "    url = f'https://api.pushshift.io/reddit/search/{s_type}/?subreddit={subreddit}&before={full_df[\"created_utc\"].min()}&size=100'\n",
    "\n",
    "\n",
    "    res = requests.get(url)\n",
    "    if res.status_code == 200:\n",
    "        post_list =  res.json()['data']\n",
    "\n",
    "        \n",
    "        temp_df = pd.DataFrame(post_list)[['title', 'author','selftext', 'created_utc', 'subreddit']]\n",
    "        full_df = pd.concat([full_df, temp_df])\n",
    "        \n",
    "        print(full_df.shape)\n",
    "        print(full_df.nunique())\n",
    "        print('wating until next pull...')\n",
    "        time.sleep(5)\n"
   ]
  },
  {
   "cell_type": "markdown",
   "id": "b703ac14-36e1-4e6f-ac44-2b38338cbb25",
   "metadata": {},
   "source": [
    "## EDA"
   ]
  },
  {
   "cell_type": "code",
   "execution_count": 107,
   "id": "39e21df2-c0f7-4bf1-8ff8-d2e139b73287",
   "metadata": {},
   "outputs": [
    {
     "name": "stdout",
     "output_type": "stream",
     "text": [
      "<class 'pandas.core.frame.DataFrame'>\n",
      "RangeIndex: 20000 entries, 0 to 19999\n",
      "Data columns (total 6 columns):\n",
      " #   Column       Non-Null Count  Dtype \n",
      "---  ------       --------------  ----- \n",
      " 0   title        20000 non-null  object\n",
      " 1   author       20000 non-null  object\n",
      " 2   selftext     6422 non-null   object\n",
      " 3   created_utc  20000 non-null  int64 \n",
      " 4   subreddit    20000 non-null  object\n",
      " 5   label        20000 non-null  int64 \n",
      "dtypes: int64(2), object(4)\n",
      "memory usage: 937.6+ KB\n"
     ]
    }
   ],
   "source": [
    "# full_df.to_csv('sci_rel.csv', index=False)\n",
    "full_df = pd.read_csv('sci_rel.csv')\n",
    "full_df.info()"
   ]
  },
  {
   "cell_type": "code",
   "execution_count": 108,
   "id": "b621ddaa-ec2e-4a6c-82cc-e65f9f6ac339",
   "metadata": {},
   "outputs": [
    {
     "name": "stdout",
     "output_type": "stream",
     "text": [
      "<class 'pandas.core.frame.DataFrame'>\n",
      "RangeIndex: 20000 entries, 0 to 19999\n",
      "Data columns (total 6 columns):\n",
      " #   Column       Non-Null Count  Dtype \n",
      "---  ------       --------------  ----- \n",
      " 0   title        20000 non-null  object\n",
      " 1   author       20000 non-null  object\n",
      " 2   selftext     6422 non-null   object\n",
      " 3   created_utc  20000 non-null  int64 \n",
      " 4   subreddit    20000 non-null  object\n",
      " 5   label        20000 non-null  int64 \n",
      "dtypes: int64(2), object(4)\n",
      "memory usage: 937.6+ KB\n",
      "None\n",
      "2412\n",
      "338\n"
     ]
    },
    {
     "data": {
      "text/plain": [
       "New video by katholisch.de on YouTube                                                              109\n",
       "Word's Of Shirdi Sai Baba                                                                           69\n",
       "Word's of Shirdi Sai Baba                                                                           62\n",
       "Weekly \"What is my religion?\" discussion                                                            20\n",
       "10 Weird Signs Reveal That You Are Highly Intelligent, According To Science                         13\n",
       "                                                                                                  ... \n",
       "Armageddon?                                                                                          1\n",
       "Clinical Utility of SPECT Neuroimaging in the Diagnosis and Treatment of Traumatic Brain Injury      1\n",
       "Atheists on Reddit                                                                                   1\n",
       "Foolish Apes: On Reason and Religion | Helen Pluckrose and Bo Winegard                               1\n",
       "Ricky Gervais &amp; Russell Brand: God VS Atheism                                                    1\n",
       "Name: title, Length: 19022, dtype: int64"
      ]
     },
     "execution_count": 108,
     "metadata": {},
     "output_type": "execute_result"
    }
   ],
   "source": [
    "print(full_df.info())\n",
    "print(full_df.selftext.value_counts()['[removed]'])\n",
    "print(full_df.selftext.value_counts()['[deleted]'])\n",
    "\n",
    "# Here we can see that many of the selftext has been removed or deleted\n",
    "\n",
    "full_df.title.value_counts(sort = True)\n",
    "\n",
    "# However, the titles remain. Then, lets use the titles as our data to predict our target subreddit."
   ]
  },
  {
   "cell_type": "markdown",
   "id": "b8d3305e-93e0-40da-b586-f7f2b6eb9b3f",
   "metadata": {},
   "source": [
    "## Pre-Processing and Modeling"
   ]
  },
  {
   "cell_type": "code",
   "execution_count": 109,
   "id": "39ccb507-7f0a-4f79-9a1f-4f65aae3babc",
   "metadata": {},
   "outputs": [
    {
     "data": {
      "text/html": [
       "<div>\n",
       "<style scoped>\n",
       "    .dataframe tbody tr th:only-of-type {\n",
       "        vertical-align: middle;\n",
       "    }\n",
       "\n",
       "    .dataframe tbody tr th {\n",
       "        vertical-align: top;\n",
       "    }\n",
       "\n",
       "    .dataframe thead th {\n",
       "        text-align: right;\n",
       "    }\n",
       "</style>\n",
       "<table border=\"1\" class=\"dataframe\">\n",
       "  <thead>\n",
       "    <tr style=\"text-align: right;\">\n",
       "      <th></th>\n",
       "      <th>title</th>\n",
       "      <th>author</th>\n",
       "      <th>selftext</th>\n",
       "      <th>created_utc</th>\n",
       "      <th>subreddit</th>\n",
       "      <th>label</th>\n",
       "    </tr>\n",
       "  </thead>\n",
       "  <tbody>\n",
       "    <tr>\n",
       "      <th>0</th>\n",
       "      <td>Let's Go! It's crunch time for climate action!</td>\n",
       "      <td>FossilBoi</td>\n",
       "      <td>NaN</td>\n",
       "      <td>1627583615</td>\n",
       "      <td>science</td>\n",
       "      <td>1</td>\n",
       "    </tr>\n",
       "    <tr>\n",
       "      <th>1</th>\n",
       "      <td>Patients’ perspectives on the experience of ab...</td>\n",
       "      <td>kmarkmohan</td>\n",
       "      <td>NaN</td>\n",
       "      <td>1627581399</td>\n",
       "      <td>science</td>\n",
       "      <td>1</td>\n",
       "    </tr>\n",
       "    <tr>\n",
       "      <th>2</th>\n",
       "      <td>Electrical activity of fungi: Spikes detection...</td>\n",
       "      <td>Memetic1</td>\n",
       "      <td>NaN</td>\n",
       "      <td>1627580992</td>\n",
       "      <td>science</td>\n",
       "      <td>1</td>\n",
       "    </tr>\n",
       "    <tr>\n",
       "      <th>3</th>\n",
       "      <td>Using fungal electrical activity for computing</td>\n",
       "      <td>Memetic1</td>\n",
       "      <td>NaN</td>\n",
       "      <td>1627580400</td>\n",
       "      <td>science</td>\n",
       "      <td>1</td>\n",
       "    </tr>\n",
       "    <tr>\n",
       "      <th>4</th>\n",
       "      <td>People often benefit from advice—when they enc...</td>\n",
       "      <td>geoff199</td>\n",
       "      <td>NaN</td>\n",
       "      <td>1627577763</td>\n",
       "      <td>science</td>\n",
       "      <td>1</td>\n",
       "    </tr>\n",
       "  </tbody>\n",
       "</table>\n",
       "</div>"
      ],
      "text/plain": [
       "                                               title      author selftext  \\\n",
       "0     Let's Go! It's crunch time for climate action!   FossilBoi      NaN   \n",
       "1  Patients’ perspectives on the experience of ab...  kmarkmohan      NaN   \n",
       "2  Electrical activity of fungi: Spikes detection...    Memetic1      NaN   \n",
       "3     Using fungal electrical activity for computing    Memetic1      NaN   \n",
       "4  People often benefit from advice—when they enc...    geoff199      NaN   \n",
       "\n",
       "   created_utc subreddit  label  \n",
       "0   1627583615   science      1  \n",
       "1   1627581399   science      1  \n",
       "2   1627580992   science      1  \n",
       "3   1627580400   science      1  \n",
       "4   1627577763   science      1  "
      ]
     },
     "execution_count": 109,
     "metadata": {},
     "output_type": "execute_result"
    }
   ],
   "source": [
    "full_df['label'] = full_df['subreddit'].map({'religion': 0, 'science': 1})\n",
    "full_df.head()"
   ]
  },
  {
   "cell_type": "code",
   "execution_count": 110,
   "id": "b1fbb784-683d-4918-8c5c-42c21aa21633",
   "metadata": {},
   "outputs": [],
   "source": [
    "X = full_df['title']\n",
    "y = full_df['label']"
   ]
  },
  {
   "cell_type": "code",
   "execution_count": 111,
   "id": "8e733a18-6220-4a43-800c-67952ba954c9",
   "metadata": {
    "tags": []
   },
   "outputs": [
    {
     "data": {
      "text/plain": [
       "0    0.5\n",
       "1    0.5\n",
       "Name: label, dtype: float64"
      ]
     },
     "execution_count": 111,
     "metadata": {},
     "output_type": "execute_result"
    }
   ],
   "source": [
    "# Check what we need to check in a classification problem.\n",
    "y.value_counts(normalize = True)"
   ]
  },
  {
   "cell_type": "code",
   "execution_count": 112,
   "id": "a09067b5-26c5-4117-8eae-3558241a6cbf",
   "metadata": {},
   "outputs": [],
   "source": [
    "# Split the data into the training and testing sets.\n",
    "X_train, X_test, y_train, y_test = train_test_split(X,\n",
    "                                                    y,\n",
    "                                                    test_size=0.33,\n",
    "                                                    stratify=y,\n",
    "                                                    random_state=42)"
   ]
  },
  {
   "cell_type": "code",
   "execution_count": 113,
   "id": "90ebb74a-0e32-4cff-a415-40728c419a96",
   "metadata": {},
   "outputs": [],
   "source": [
    "# Instantiate a CountVectorizer with the default hyperparameters.\n",
    "cvec = CountVectorizer()"
   ]
  },
  {
   "cell_type": "code",
   "execution_count": 114,
   "id": "4045b21b-c4ba-4bea-8544-f60253273159",
   "metadata": {},
   "outputs": [
    {
     "data": {
      "text/plain": [
       "CountVectorizer()"
      ]
     },
     "execution_count": 114,
     "metadata": {},
     "output_type": "execute_result"
    }
   ],
   "source": [
    "# Fit the vectorizer on our corpus.\n",
    "cvec.fit(X_train)"
   ]
  },
  {
   "cell_type": "code",
   "execution_count": 115,
   "id": "bf658ea2-795c-4750-a0d3-5e863d416f23",
   "metadata": {},
   "outputs": [],
   "source": [
    "# Transform the corpus.\n",
    "X_train = cvec.transform(X_train)"
   ]
  },
  {
   "cell_type": "code",
   "execution_count": 116,
   "id": "ea11b02e-0855-4660-95ca-faee07c4f374",
   "metadata": {},
   "outputs": [
    {
     "data": {
      "text/plain": [
       "<13400x20076 sparse matrix of type '<class 'numpy.int64'>'\n",
       "\twith 180109 stored elements in Compressed Sparse Row format>"
      ]
     },
     "execution_count": 116,
     "metadata": {},
     "output_type": "execute_result"
    }
   ],
   "source": [
    "X_train"
   ]
  },
  {
   "cell_type": "code",
   "execution_count": 117,
   "id": "c24b6829-e0d1-4b0e-ab1a-f0565f85cfe4",
   "metadata": {},
   "outputs": [],
   "source": [
    "# Transform test\n",
    "X_test = cvec.transform(X_test)"
   ]
  },
  {
   "cell_type": "code",
   "execution_count": 118,
   "id": "919327fe-877a-4713-8af9-35ff5333f8cc",
   "metadata": {},
   "outputs": [
    {
     "data": {
      "image/png": "[encoded data removed]",
      "text/plain": [
       "<Figure size 432x288 with 1 Axes>"
      ]
     },
     "metadata": {
      "needs_background": "light"
     },
     "output_type": "display_data"
    }
   ],
   "source": [
    "# convert training data to dataframe\n",
    "X_train_df = pd.DataFrame(X_train.todense(), \n",
    "                          columns=cvec.get_feature_names())\n",
    "\n",
    "# plot top occuring words\n",
    "X_train_df.sum().sort_values(ascending=False).head(10).plot(kind='barh');"
   ]
  },
  {
   "cell_type": "code",
   "execution_count": 119,
   "id": "8507f612-224c-4452-a854-b2c15090ef78",
   "metadata": {},
   "outputs": [],
   "source": [
    "# Redefine training and testing sets.\n",
    "X_train, X_test, y_train, y_test = train_test_split(X,\n",
    "                                                    y,\n",
    "                                                    test_size=0.33,\n",
    "                                                    stratify=y,\n",
    "                                                    random_state=42)"
   ]
  },
  {
   "cell_type": "code",
   "execution_count": 120,
   "id": "da167c6f-196e-4098-82db-0592b63c5411",
   "metadata": {},
   "outputs": [
    {
     "data": {
      "text/plain": [
       "0    0.5\n",
       "1    0.5\n",
       "Name: label, dtype: float64"
      ]
     },
     "execution_count": 120,
     "metadata": {},
     "output_type": "execute_result"
    }
   ],
   "source": [
    "y_test.value_counts(normalize=True)"
   ]
  },
  {
   "cell_type": "markdown",
   "id": "a09823ff-293f-4e42-847b-8c6eecacca52",
   "metadata": {},
   "source": [
    "### Pipeline Model Testing"
   ]
  },
  {
   "cell_type": "code",
   "execution_count": 121,
   "id": "94536f94-e6cd-4ec2-b734-28a9edf44fc5",
   "metadata": {},
   "outputs": [],
   "source": [
    "# Let's set a pipeline up with two stages:\n",
    "# 1. CountVectorizer (transformer)\n",
    "# 2. Bernoulli Naive Bayes (estimator)\n",
    "\n",
    "pipe = Pipeline([\n",
    "    ('cvec', CountVectorizer()),\n",
    "    ('nb', MultinomialNB())\n",
    "])"
   ]
  },
  {
   "cell_type": "code",
   "execution_count": 122,
   "id": "abc6ee65-b35e-499b-8313-9a73c0c1fed3",
   "metadata": {},
   "outputs": [
    {
     "data": {
      "text/plain": [
       "0.9261936558664287"
      ]
     },
     "execution_count": 122,
     "metadata": {},
     "output_type": "execute_result"
    }
   ],
   "source": [
    "# Estimate how your model will perform on unseen data\n",
    "cross_val_score(pipe, X_train, y_train, cv=3).mean() "
   ]
  },
  {
   "cell_type": "code",
   "execution_count": 123,
   "id": "df852bcb-ef57-4c7a-be57-34aacb5c67ef",
   "metadata": {
    "tags": []
   },
   "outputs": [
    {
     "data": {
      "text/plain": [
       "Pipeline(steps=[('cvec', CountVectorizer()), ('nb', MultinomialNB())])"
      ]
     },
     "execution_count": 123,
     "metadata": {},
     "output_type": "execute_result"
    }
   ],
   "source": [
    "# Fit your model\n",
    "pipe.fit(X_train, y_train)"
   ]
  },
  {
   "cell_type": "code",
   "execution_count": 124,
   "id": "388bd745-91a7-4d70-a7fd-85b497ca0594",
   "metadata": {
    "tags": []
   },
   "outputs": [
    {
     "data": {
      "text/plain": [
       "0.9583582089552238"
      ]
     },
     "execution_count": 124,
     "metadata": {},
     "output_type": "execute_result"
    }
   ],
   "source": [
    "# Training score\n",
    "pipe.score(X_train, y_train)"
   ]
  },
  {
   "cell_type": "code",
   "execution_count": 125,
   "id": "770eeca4-f202-4be8-bffc-cc8ba623df02",
   "metadata": {},
   "outputs": [
    {
     "data": {
      "text/plain": [
       "0.9357575757575758"
      ]
     },
     "execution_count": 125,
     "metadata": {},
     "output_type": "execute_result"
    }
   ],
   "source": [
    "# Test score\n",
    "pipe.score(X_test, y_test)"
   ]
  },
  {
   "cell_type": "markdown",
   "id": "e9bb6a3c-7478-4768-8898-542bfa7a8137",
   "metadata": {
    "tags": []
   },
   "source": [
    "### GridSearch Pipeline Testing"
   ]
  },
  {
   "cell_type": "code",
   "execution_count": 126,
   "id": "2586df3e-f361-4cec-a342-a4870ef22196",
   "metadata": {
    "tags": []
   },
   "outputs": [],
   "source": [
    "# Search over the following values of hyperparameters:\n",
    "# Maximum number of features fit: 2000, 3000, 4000, 5000\n",
    "# Minimum number of documents needed to include token: 2, 3\n",
    "# Maximum number of documents needed to include token: 90%, 95%\n",
    "# Check (individual tokens) and also check (individual tokens and 2-grams).\n",
    "\n",
    "pipe_params = {\n",
    "    'cvec__max_features': [2_000, 3_000, 4_000, 5_000],\n",
    "    'cvec__min_df': [2, 3],\n",
    "    'cvec__max_df': [.9, .95],\n",
    "    'cvec__ngram_range': [(1,1), (1,2)]\n",
    "}"
   ]
  },
  {
   "cell_type": "code",
   "execution_count": 127,
   "id": "d931207e-283a-4248-8d5c-b1ad2de22fff",
   "metadata": {},
   "outputs": [],
   "source": [
    "# Instantiate GridSearchCV.\n",
    "\n",
    "gs = GridSearchCV(pipe,\n",
    "                  param_grid=pipe_params, \n",
    "                  cv=5) "
   ]
  },
  {
   "cell_type": "code",
   "execution_count": 128,
   "id": "4375175b-e2b5-426b-b1d3-f38e1596cc8e",
   "metadata": {},
   "outputs": [
    {
     "data": {
      "text/plain": [
       "GridSearchCV(cv=5,\n",
       "             estimator=Pipeline(steps=[('cvec', CountVectorizer()),\n",
       "                                       ('nb', MultinomialNB())]),\n",
       "             param_grid={'cvec__max_df': [0.9, 0.95],\n",
       "                         'cvec__max_features': [2000, 3000, 4000, 5000],\n",
       "                         'cvec__min_df': [2, 3],\n",
       "                         'cvec__ngram_range': [(1, 1), (1, 2)]})"
      ]
     },
     "execution_count": 128,
     "metadata": {},
     "output_type": "execute_result"
    }
   ],
   "source": [
    "# Fit GridSearch to training data.\n",
    "gs.fit(X_train, y_train)"
   ]
  },
  {
   "cell_type": "code",
   "execution_count": 129,
   "id": "27d92260-0964-44fc-bdc2-0eeddf60ba05",
   "metadata": {},
   "outputs": [
    {
     "name": "stdout",
     "output_type": "stream",
     "text": [
      "0.9222388059701492\n"
     ]
    }
   ],
   "source": [
    "# What's the best score?\n",
    "print(gs.best_score_)"
   ]
  },
  {
   "cell_type": "code",
   "execution_count": 130,
   "id": "4a495f97-b9f7-4a30-aa08-8afcb4d4bd4a",
   "metadata": {},
   "outputs": [
    {
     "data": {
      "text/plain": [
       "0.9374626865671641"
      ]
     },
     "execution_count": 130,
     "metadata": {},
     "output_type": "execute_result"
    }
   ],
   "source": [
    "# Score model on training set.\n",
    "gs.score(X_train, y_train)"
   ]
  },
  {
   "cell_type": "code",
   "execution_count": 131,
   "id": "94660b23-7a25-4f5f-9c0e-2820ce71fa3e",
   "metadata": {},
   "outputs": [
    {
     "data": {
      "text/plain": [
       "0.926060606060606"
      ]
     },
     "execution_count": 131,
     "metadata": {},
     "output_type": "execute_result"
    }
   ],
   "source": [
    "# Score model on testing set.\n",
    "gs.score(X_test, y_test)"
   ]
  },
  {
   "cell_type": "code",
   "execution_count": 132,
   "id": "ceaa5502-fb19-47ba-8fbe-983c6d2449e6",
   "metadata": {
    "tags": []
   },
   "outputs": [
    {
     "name": "stdout",
     "output_type": "stream",
     "text": [
      "Accuracy: 0.926060606060606\n"
     ]
    }
   ],
   "source": [
    "# Get predictions\n",
    "preds = gs.predict(X_test)\n",
    "\n",
    "# Save confusion matrix values\n",
    "cm = confusion_matrix(y_test, preds)\n",
    "tn, fp, fn, tp = cm.ravel()\n",
    "\n",
    "Accuracy = (tp + tn) / (tn + fp + tp + fn)\n",
    "\n",
    "print('Accuracy:', Accuracy)"
   ]
  },
  {
   "cell_type": "code",
   "execution_count": 133,
   "id": "48da425e-0f53-479a-af98-19707ee5e643",
   "metadata": {},
   "outputs": [
    {
     "data": {
      "image/png": "[encoded data removed]",
      "text/plain": [
       "<Figure size 432x288 with 2 Axes>"
      ]
     },
     "metadata": {
      "needs_background": "light"
     },
     "output_type": "display_data"
    }
   ],
   "source": [
    "# View confusion matrix\n",
    "ConfusionMatrixDisplay(cm).plot();"
   ]
  },
  {
   "cell_type": "markdown",
   "id": "bec1304f-880a-4a86-bdc3-09c7737a9a3b",
   "metadata": {},
   "source": [
    "### Logistic Regression Model"
   ]
  },
  {
   "cell_type": "code",
   "execution_count": 134,
   "id": "13af55ab-d1db-4452-b0d4-de4bf9834b7c",
   "metadata": {
    "tags": []
   },
   "outputs": [],
   "source": [
    "# Instantiate and fit the transformer.\n",
    "tvec = TfidfVectorizer()\n",
    "\n",
    "pipe = Pipeline([\n",
    "    ('tvec', CountVectorizer()),\n",
    "    ('lr', LogisticRegression())\n",
    "])"
   ]
  },
  {
   "cell_type": "code",
   "execution_count": 135,
   "id": "472c3a48-b557-4bf7-8e69-12e224db233f",
   "metadata": {},
   "outputs": [
    {
     "data": {
      "image/png": "[encoded data removed]",
      "text/plain": [
       "<Figure size 432x288 with 1 Axes>"
      ]
     },
     "metadata": {
      "needs_background": "light"
     },
     "output_type": "display_data"
    }
   ],
   "source": [
    "# convert training data to dataframe\n",
    "X_train_df = pd.DataFrame(\n",
    "    tvec.fit_transform(X_train).todense(), \n",
    "    columns=tvec.get_feature_names())\n",
    "\n",
    "# plot top occuring words\n",
    "X_train_df.sum().sort_values(\n",
    "    ascending=False).head(10).plot(kind='barh');"
   ]
  },
  {
   "cell_type": "code",
   "execution_count": 136,
   "id": "8dbfabc0-d199-4f4f-923f-9edf467fcbf8",
   "metadata": {},
   "outputs": [],
   "source": [
    "# Set up a pipeline with tf-idf vectorizer and multinomial naive bayes\n",
    "\n",
    "pipe_tvec = Pipeline([\n",
    "    ('tvec', TfidfVectorizer()),\n",
    "    ('nb', MultinomialNB())\n",
    "])"
   ]
  },
  {
   "cell_type": "code",
   "execution_count": 137,
   "id": "af7d42c6-f320-4adb-8ac2-04a47fbb12e1",
   "metadata": {},
   "outputs": [],
   "source": [
    "# Search over the following values of hyperparameters:\n",
    "# Maximum number of features fit: 2000, 3000, 4000, 5000\n",
    "# No stop words and english stop words\n",
    "# Check (individual tokens) and also check (individual tokens and 2-grams).\n",
    "\n",
    "pipe_tvec_params = {\n",
    "    'tvec__max_features': [2_000, 3_000, 4_000, 5_000],\n",
    "    'tvec__stop_words': [None, 'english'],\n",
    "    'tvec__ngram_range': [(1,1), (1,2)]\n",
    "}"
   ]
  },
  {
   "cell_type": "code",
   "execution_count": 138,
   "id": "86eb87ed-c39f-42af-a0fd-ee1787835a66",
   "metadata": {},
   "outputs": [],
   "source": [
    "# Instantiate GridSearchCV.\n",
    "\n",
    "gs_tvec = GridSearchCV(pipe_tvec, \n",
    "                        param_grid = pipe_tvec_params, \n",
    "                        cv=5) "
   ]
  },
  {
   "cell_type": "code",
   "execution_count": 139,
   "id": "32eda60e-4bca-452c-8fe0-ee5d24eead19",
   "metadata": {},
   "outputs": [
    {
     "data": {
      "text/plain": [
       "GridSearchCV(cv=5,\n",
       "             estimator=Pipeline(steps=[('tvec', TfidfVectorizer()),\n",
       "                                       ('nb', MultinomialNB())]),\n",
       "             param_grid={'tvec__max_features': [2000, 3000, 4000, 5000],\n",
       "                         'tvec__ngram_range': [(1, 1), (1, 2)],\n",
       "                         'tvec__stop_words': [None, 'english']})"
      ]
     },
     "execution_count": 139,
     "metadata": {},
     "output_type": "execute_result"
    }
   ],
   "source": [
    "# Fit GridSearch to training data.\n",
    "gs_tvec.fit(X_train, y_train)"
   ]
  },
  {
   "cell_type": "code",
   "execution_count": 140,
   "id": "2d95a842-4ae5-4011-b5c3-7dcbbf08756c",
   "metadata": {},
   "outputs": [
    {
     "data": {
      "text/plain": [
       "0.9483582089552239"
      ]
     },
     "execution_count": 140,
     "metadata": {},
     "output_type": "execute_result"
    }
   ],
   "source": [
    "# Score model on training set.\n",
    "gs_tvec.score(X_train, y_train)"
   ]
  },
  {
   "cell_type": "code",
   "execution_count": 141,
   "id": "3096e87e-fbe0-45b1-9d18-62a244236766",
   "metadata": {},
   "outputs": [
    {
     "data": {
      "text/plain": [
       "0.9313636363636364"
      ]
     },
     "execution_count": 141,
     "metadata": {},
     "output_type": "execute_result"
    }
   ],
   "source": [
    "# Score model on testing set.\n",
    "gs_tvec.score(X_test, y_test)"
   ]
  },
  {
   "cell_type": "code",
   "execution_count": 142,
   "id": "bc5b4fb8-a9ce-4bd4-8ee7-5fad3e4dec31",
   "metadata": {},
   "outputs": [
    {
     "name": "stdout",
     "output_type": "stream",
     "text": [
      "Accuracy: 0.9313636363636364\n"
     ]
    }
   ],
   "source": [
    "# Get predictions\n",
    "preds_tvec = gs_tvec.predict(X_test)\n",
    "\n",
    "# Save confusion matrix values\n",
    "cm = confusion_matrix(y_test, preds_tvec)\n",
    "tn, fp, fn, tp = cm.ravel()\n",
    "\n",
    "# Calculate the specificity\n",
    "\n",
    "Accuracy = (tp + tn) / (tn + fp + tp + fn)\n",
    "\n",
    "print('Accuracy:', Accuracy)"
   ]
  },
  {
   "cell_type": "code",
   "execution_count": 143,
   "id": "08b80c30-6e99-4b8b-90d7-bc678c5e8ccd",
   "metadata": {},
   "outputs": [
    {
     "data": {
      "image/png": "[encoded data removed]",
      "text/plain": [
       "<Figure size 432x288 with 2 Axes>"
      ]
     },
     "metadata": {
      "needs_background": "light"
     },
     "output_type": "display_data"
    }
   ],
   "source": [
    "# visualize this\n",
    "\n",
    "ConfusionMatrixDisplay(cm).plot();"
   ]
  },
  {
   "cell_type": "markdown",
   "id": "2b56d5dd-bcec-4909-a210-2482104614bb",
   "metadata": {},
   "source": [
    "## Analysis and Conclusions "
   ]
  },
  {
   "cell_type": "markdown",
   "id": "21b8f640-9dc4-447b-a1d2-20f4de5728f0",
   "metadata": {},
   "source": [
    "The LogReg model generated more accurate predictions than the Niave Bayes model, therefore I would recommend the LogReg model for subreddit classification."
   ]
  }
 ],
 "metadata": {
  "kernelspec": {
   "display_name": "Python 3",
   "language": "python",
   "name": "python3"
  },
  "language_info": {
   "codemirror_mode": {
    "name": "ipython",
    "version": 3
   },
   "file_extension": ".py",
   "mimetype": "text/x-python",
   "name": "python",
   "nbconvert_exporter": "python",
   "pygments_lexer": "ipython3",
   "version": "3.8.8"
  }
 },
 "nbformat": 4,
 "nbformat_minor": 5
}
